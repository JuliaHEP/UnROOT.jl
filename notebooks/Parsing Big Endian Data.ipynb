{
 "cells": [
  {
   "cell_type": "code",
   "execution_count": 3,
   "metadata": {},
   "outputs": [
    {
     "name": "stdout",
     "output_type": "stream",
     "text": [
      "\u001b[32m\u001b[1mActivating\u001b[22m\u001b[39m environment at `~/Dev/ROOTIO.jl/Project.toml`\n"
     ]
    }
   ],
   "source": [
    "using Pkg\n",
    "Pkg.activate(\"..\")\n",
    "\n",
    "using BenchmarkTools\n",
    "using StaticArrays\n",
    "using ROOTIO"
   ]
  },
  {
   "cell_type": "code",
   "execution_count": 4,
   "metadata": {},
   "outputs": [],
   "source": [
    "ROOTIO.@io struct Foo\n",
    "    a::Int32\n",
    "    b::Int64\n",
    "    c::Float32\n",
    "    d::SVector{5, UInt8}\n",
    "end"
   ]
  },
  {
   "cell_type": "code",
   "execution_count": 5,
   "metadata": {},
   "outputs": [
    {
     "data": {
      "text/plain": [
       "IOBuffer(data=UInt8[...], readable=true, writable=false, seekable=true, append=false, size=21, maxsize=Inf, ptr=1, mark=-1)"
      ]
     },
     "execution_count": 5,
     "metadata": {},
     "output_type": "execute_result"
    }
   ],
   "source": [
    "buf = IOBuffer(Vector{UInt8}(1:sizeof(Foo)))"
   ]
  },
  {
   "cell_type": "code",
   "execution_count": 6,
   "metadata": {},
   "outputs": [
    {
     "data": {
      "text/plain": [
       "Foo(16909060, 361984551142689548, 4.377526f-31, UInt8[0x11, 0x12, 0x13, 0x14, 0x15])"
      ]
     },
     "execution_count": 6,
     "metadata": {},
     "output_type": "execute_result"
    }
   ],
   "source": [
    "foo = ROOTIO.unpack(buf, Foo)"
   ]
  },
  {
   "cell_type": "code",
   "execution_count": 3,
   "metadata": {},
   "outputs": [
    {
     "name": "stderr",
     "output_type": "stream",
     "text": [
      "┌ Info: Recompiling stale cache file /Users/tamasgal/.julia/compiled/v1.2/ROOTIO/koyqt.ji for ROOTIO [3cd96dde-e98d-4713-81e9-a4a1b0235ce9]\n",
      "└ @ Base loading.jl:1240\n"
     ]
    },
    {
     "name": "stdout",
     "output_type": "stream",
     "text": [
      "Any[:(SVector{4, UInt8}), :Int32, :Int32, :UInt32, :UInt32, :Int32, :Int32, :Int32, :UInt8, :Int32, :UInt32, :Int32, :(SVector{18, UInt8})]\n",
      "SVector{4, UInt8}\n",
      "Expr\n",
      "Int32\n",
      "Symbol\n",
      "Int32\n",
      "Symbol\n",
      "UInt32\n",
      "Symbol\n",
      "UInt32\n",
      "Symbol\n",
      "Int32\n",
      "Symbol\n",
      "Int32\n",
      "Symbol\n",
      "Int32\n",
      "Symbol\n",
      "UInt8\n",
      "Symbol\n",
      "Int32\n",
      "Symbol\n",
      "UInt32\n",
      "Symbol\n",
      "Int32\n",
      "Symbol\n",
      "SVector{18, UInt8}\n",
      "Expr\n",
      "Any[:(read(io, sizeof(SVector{4, UInt8}))), :(ntoh(read(io, Int32))), :(ntoh(read(io, Int32))), :(ntoh(read(io, UInt32))), :(ntoh(read(io, UInt32))), :(ntoh(read(io, Int32))), :(ntoh(read(io, Int32))), :(ntoh(read(io, Int32))), :(ntoh(read(io, UInt8))), :(ntoh(read(io, Int32))), :(ntoh(read(io, UInt32))), :(ntoh(read(io, Int32))), :(read(io, sizeof(SVector{18, UInt8})))]"
     ]
    }
   ],
   "source": []
  },
  {
   "cell_type": "code",
   "execution_count": 4,
   "metadata": {},
   "outputs": [
    {
     "name": "stdout",
     "output_type": "stream",
     "text": [
      "Any[:Int32, :Float32, :(SVector{4, UInt8})]\n",
      "Int32\n",
      "Symbol\n",
      "Float32\n",
      "Symbol\n",
      "SVector{4, UInt8}\n",
      "Expr\n",
      "Any[:(ntoh(read(io, Int32))), :(ntoh(read(io, Float32))), :(read(io, sizeof(SVector{4, UInt8})))]"
     ]
    }
   ],
   "source": [
    "@ROOTIO.io struct Bar\n",
    "    a::Int32\n",
    "    b::Float32\n",
    "    c::SVector{4, UInt8}\n",
    "end"
   ]
  },
  {
   "cell_type": "code",
   "execution_count": 5,
   "metadata": {},
   "outputs": [
    {
     "name": "stdout",
     "output_type": "stream",
     "text": [
      "Any[:Int32, :Float32, :(SVector{4, UInt16})]\n",
      "Int32\n",
      "Symbol\n",
      "Float32\n",
      "Symbol\n",
      "SVector{4, UInt16}\n",
      "Expr\n"
     ]
    },
    {
     "ename": "LoadError",
     "evalue": "No parser found for type SVector{4, UInt16}",
     "output_type": "error",
     "traceback": [
      "No parser found for type SVector{4, UInt16}",
      "",
      "Stacktrace:",
      " [1] error(::String) at ./error.jl:33",
      " [2] @io(::LineNumberNode, ::Module, ::Any) at /Users/tamasgal/Dev/ROOTIO.jl/src/io.jl:22"
     ]
    }
   ],
   "source": [
    "@ROOTIO.io struct Baz\n",
    "    a::Int32\n",
    "    b::Float32\n",
    "    c::SVector{4, UInt16}\n",
    "end"
   ]
  },
  {
   "cell_type": "code",
   "execution_count": 5,
   "metadata": {},
   "outputs": [
    {
     "name": "stdout",
     "output_type": "stream",
     "text": [
      "Any[:Int32, :Int32, :Float32, :Int32]\n",
      "Int32\n",
      "Symbol\n",
      "Int32\n",
      "Symbol\n",
      "Float32\n",
      "Symbol\n",
      "Int32\n",
      "Symbol\n",
      "Any[:(ntoh(read(io, Int32))), :(ntoh(read(io, Int32))), :(ntoh(read(io, Float32))), :(ntoh(read(io, Int32)))]"
     ]
    }
   ],
   "source": [
    "@ROOTIO.io struct Foo\n",
    "    a::Int32\n",
    "    b::Int32\n",
    "    c::Float32\n",
    "    d::Int32\n",
    "end"
   ]
  },
  {
   "cell_type": "code",
   "execution_count": 6,
   "metadata": {},
   "outputs": [
    {
     "data": {
      "text/plain": [
       "Foo(1, 2, 3.0f0, 4)"
      ]
     },
     "execution_count": 6,
     "metadata": {},
     "output_type": "execute_result"
    }
   ],
   "source": [
    "Foo(1, 2, 3, 4)"
   ]
  },
  {
   "cell_type": "code",
   "execution_count": 7,
   "metadata": {},
   "outputs": [],
   "source": [
    "data = rand(UInt8, 1000000000);"
   ]
  },
  {
   "cell_type": "code",
   "execution_count": 8,
   "metadata": {},
   "outputs": [],
   "source": [
    "buf = IOBuffer(data);"
   ]
  },
  {
   "cell_type": "code",
   "execution_count": 14,
   "metadata": {},
   "outputs": [
    {
     "ename": "UndefVarError",
     "evalue": "UndefVarError: buf not defined",
     "output_type": "error",
     "traceback": [
      "UndefVarError: buf not defined",
      "",
      "Stacktrace:",
      " [1] top-level scope at In[14]:1"
     ]
    }
   ],
   "source": [
    "read(buf, 4)"
   ]
  },
  {
   "cell_type": "code",
   "execution_count": 10,
   "metadata": {},
   "outputs": [
    {
     "data": {
      "text/plain": [
       "IOBuffer(data=UInt8[...], readable=true, writable=false, seekable=true, append=false, size=1000000000, maxsize=Inf, ptr=5, mark=-1)"
      ]
     },
     "execution_count": 10,
     "metadata": {},
     "output_type": "execute_result"
    }
   ],
   "source": [
    "buf"
   ]
  },
  {
   "cell_type": "code",
   "execution_count": 12,
   "metadata": {},
   "outputs": [
    {
     "data": {
      "text/plain": [
       "Foo(769902277, 877929864, -1.9601652f-14, 917802855)"
      ]
     },
     "execution_count": 12,
     "metadata": {},
     "output_type": "execute_result"
    }
   ],
   "source": [
    "ROOTIO.unpack(IOBuffer(rand(UInt8, 1000)), Foo)"
   ]
  },
  {
   "cell_type": "code",
   "execution_count": 13,
   "metadata": {},
   "outputs": [
    {
     "data": {
      "text/plain": [
       "Bar(-1787811434, -2.3025051f-10, UInt8[0x5b, 0x6e, 0x2e, 0x63])"
      ]
     },
     "execution_count": 13,
     "metadata": {},
     "output_type": "execute_result"
    }
   ],
   "source": [
    "ROOTIO.unpack(IOBuffer(rand(UInt8, 1000)), Bar)"
   ]
  },
  {
   "cell_type": "code",
   "execution_count": 14,
   "metadata": {},
   "outputs": [
    {
     "name": "stdout",
     "output_type": "stream",
     "text": [
      "  8.548 ns (0 allocations: 0 bytes)\n"
     ]
    },
    {
     "data": {
      "text/plain": [
       "Foo(228380471, -1642559088, -3.3711032f30, 2050440449)"
      ]
     },
     "execution_count": 14,
     "metadata": {},
     "output_type": "execute_result"
    }
   ],
   "source": [
    "@btime ROOTIO.unpack($buf, Foo)"
   ]
  },
  {
   "cell_type": "code",
   "execution_count": 16,
   "metadata": {},
   "outputs": [
    {
     "name": "stdout",
     "output_type": "stream",
     "text": [
      "  45.611 ns (2 allocations: 96 bytes)\n"
     ]
    },
    {
     "data": {
      "text/plain": [
       "Bar(1947119411, -1.2519076f10, UInt8[0x96, 0x62, 0xaf, 0x54])"
      ]
     },
     "execution_count": 16,
     "metadata": {},
     "output_type": "execute_result"
    }
   ],
   "source": [
    "@btime ROOTIO.unpack($buf, Bar)"
   ]
  },
  {
   "cell_type": "code",
   "execution_count": 15,
   "metadata": {},
   "outputs": [
    {
     "ename": "UndefVarError",
     "evalue": "UndefVarError: retrieve_big_endian_32_foo_hardcoded_using_ntoh not defined",
     "output_type": "error",
     "traceback": [
      "UndefVarError: retrieve_big_endian_32_foo_hardcoded_using_ntoh not defined",
      "",
      "Stacktrace:",
      " [1] ##core#388(::Array{UInt8,1}) at /Users/tamasgal/.julia/packages/BenchmarkTools/eCEpo/src/execution.jl:371",
      " [2] ##sample#389(::BenchmarkTools.Parameters) at /Users/tamasgal/.julia/packages/BenchmarkTools/eCEpo/src/execution.jl:377",
      " [3] #_run#4(::Bool, ::String, ::Base.Iterators.Pairs{Symbol,Integer,NTuple{4,Symbol},NamedTuple{(:samples, :evals, :gctrial, :gcsample),Tuple{Int64,Int64,Bool,Bool}}}, ::typeof(BenchmarkTools._run), ::BenchmarkTools.Benchmark{Symbol(\"##benchmark#387\")}, ::BenchmarkTools.Parameters) at /Users/tamasgal/.julia/packages/BenchmarkTools/eCEpo/src/execution.jl:405",
      " [4] (::getfield(Base, Symbol(\"#inner#2\")){Base.Iterators.Pairs{Symbol,Integer,NTuple{5,Symbol},NamedTuple{(:verbose, :samples, :evals, :gctrial, :gcsample),Tuple{Bool,Int64,Int64,Bool,Bool}}},typeof(BenchmarkTools._run),Tuple{BenchmarkTools.Benchmark{Symbol(\"##benchmark#387\")},BenchmarkTools.Parameters}})() at ./none:0",
      " [5] #invokelatest#1 at ./essentials.jl:794 [inlined]",
      " [6] #invokelatest at ./none:0 [inlined]",
      " [7] #run_result#37 at /Users/tamasgal/.julia/packages/BenchmarkTools/eCEpo/src/execution.jl:32 [inlined]",
      " [8] #run_result at ./none:0 [inlined]",
      " [9] #run#40(::Nothing, ::Float64, ::Float64, ::Base.Iterators.Pairs{Symbol,Integer,NTuple{5,Symbol},NamedTuple{(:verbose, :samples, :evals, :gctrial, :gcsample),Tuple{Bool,Int64,Int64,Bool,Bool}}}, ::typeof(run), ::BenchmarkTools.Benchmark{Symbol(\"##benchmark#387\")}, ::BenchmarkTools.Parameters) at /Users/tamasgal/.julia/packages/BenchmarkTools/eCEpo/src/execution.jl:94",
      " [10] #run at ./none:0 [inlined] (repeats 2 times)",
      " [11] #warmup#45 at /Users/tamasgal/.julia/packages/BenchmarkTools/eCEpo/src/execution.jl:141 [inlined]",
      " [12] warmup(::BenchmarkTools.Benchmark{Symbol(\"##benchmark#387\")}) at /Users/tamasgal/.julia/packages/BenchmarkTools/eCEpo/src/execution.jl:141",
      " [13] top-level scope at /Users/tamasgal/.julia/packages/BenchmarkTools/eCEpo/src/execution.jl:481",
      " [14] top-level scope at In[15]:1"
     ]
    }
   ],
   "source": [
    "@btime retrieve_big_endian_32_foo_hardcoded_using_ntoh($data)"
   ]
  },
  {
   "cell_type": "code",
   "execution_count": 23,
   "metadata": {},
   "outputs": [
    {
     "name": "stdout",
     "output_type": "stream",
     "text": [
      "  85.815 ns (1 allocation: 64 bytes)\n"
     ]
    },
    {
     "data": {
      "text/plain": [
       "IOBuffer(data=UInt8[...], readable=true, writable=false, seekable=true, append=false, size=16, maxsize=Inf, ptr=1, mark=-1)"
      ]
     },
     "execution_count": 23,
     "metadata": {},
     "output_type": "execute_result"
    }
   ],
   "source": [
    "@btime IOBuffer(data)"
   ]
  },
  {
   "cell_type": "code",
   "execution_count": 7,
   "metadata": {},
   "outputs": [],
   "source": [
    "data = Vector{UInt8}([0x00, 0x00, 0x00, 0x64, 0x00, 0x00, 0x00, 0x32, 0x00, 0x00, 0x00, 0x16, 0x00, 0x00, 0x00, 0x24]);"
   ]
  },
  {
   "cell_type": "code",
   "execution_count": 2,
   "metadata": {},
   "outputs": [],
   "source": [
    "struct Foo\n",
    "    a::Int32\n",
    "    b::Int32\n",
    "    c::Float32\n",
    "    d::Int32\n",
    "end"
   ]
  },
  {
   "cell_type": "code",
   "execution_count": 21,
   "metadata": {},
   "outputs": [
    {
     "data": {
      "text/plain": [
       "retrieve_big_endian_32_foo_hardcoded_using_ntoh (generic function with 1 method)"
      ]
     },
     "execution_count": 21,
     "metadata": {},
     "output_type": "execute_result"
    }
   ],
   "source": [
    "function retrieve_foo(data)\n",
    "    buf = IOBuffer(data)\n",
    "    Foo(read(buf, Int32), read(buf, Int32), read(buf, Float32), read(buf, Int32))\n",
    "end\n",
    "\n",
    "function retrieve_foo_via_ref(data)\n",
    "    ref = Ref{Foo}()\n",
    "    read!(IOBuffer(data), ref)\n",
    "    return ref[]\n",
    "end\n",
    "\n",
    "\n",
    "function retrieve_big_endian_32_foo(data)\n",
    "    ref = Ref{Foo}()\n",
    "    @inbounds for idx in range(1; length=Int(length(data)/4), step=4)\n",
    "        reverse!(data, idx, idx+3)\n",
    "    end\n",
    "    read!(IOBuffer(data), ref)\n",
    "    return ref[]\n",
    "end\n",
    "\n",
    "\n",
    "function retrieve_big_endian_32_foo_hardcoded_using_reverse_and_ref(data)\n",
    "    ref = Ref{Foo}()\n",
    "    reverse!(data, 1, 4)\n",
    "    reverse!(data, 5, 8)\n",
    "    reverse!(data, 9, 12)\n",
    "    read!(IOBuffer(data), ref)\n",
    "    return ref[]\n",
    "end\n",
    "\n",
    "\n",
    "function retrieve_big_endian_32_foo_hardcoded_using_ntoh(data)\n",
    "    buf = IOBuffer(data)\n",
    "    Foo(ntoh(read(buf, Int32)), ntoh(read(buf, Int32)), ntoh(read(buf, Float32)), ntoh(read(buf, Int32)))\n",
    "end"
   ]
  },
  {
   "cell_type": "code",
   "execution_count": 15,
   "metadata": {},
   "outputs": [],
   "source": [
    "data = Vector{UInt8}([0x00, 0x00, 0x00, 0x64, 0x00, 0x00, 0x00, 0x32, 0x00, 0x00, 0x00, 0x16, 0x00, 0x00, 0x00, 0x24]);"
   ]
  },
  {
   "cell_type": "code",
   "execution_count": 19,
   "metadata": {},
   "outputs": [
    {
     "ename": "UndefVarError",
     "evalue": "UndefVarError: retrieve_foo not defined",
     "output_type": "error",
     "traceback": [
      "UndefVarError: retrieve_foo not defined",
      "",
      "Stacktrace:",
      " [1] ##core#436() at /home/tgal/.julia/packages/BenchmarkTools/7aqwe/src/execution.jl:297",
      " [2] ##sample#437(::BenchmarkTools.Parameters) at /home/tgal/.julia/packages/BenchmarkTools/7aqwe/src/execution.jl:303",
      " [3] #_run#10(::Bool, ::String, ::Base.Iterators.Pairs{Symbol,Integer,NTuple{4,Symbol},NamedTuple{(:samples, :evals, :gctrial, :gcsample),Tuple{Int64,Int64,Bool,Bool}}}, ::typeof(BenchmarkTools._run), ::BenchmarkTools.Benchmark{Symbol(\"##benchmark#435\")}, ::BenchmarkTools.Parameters) at /home/tgal/.julia/packages/BenchmarkTools/7aqwe/src/execution.jl:331",
      " [4] (::Base.var\"#inner#2\"{Base.Iterators.Pairs{Symbol,Integer,NTuple{5,Symbol},NamedTuple{(:verbose, :samples, :evals, :gctrial, :gcsample),Tuple{Bool,Int64,Int64,Bool,Bool}}},typeof(BenchmarkTools._run),Tuple{BenchmarkTools.Benchmark{Symbol(\"##benchmark#435\")},BenchmarkTools.Parameters}})() at ./none:0",
      " [5] #invokelatest#1 at ./essentials.jl:713 [inlined]",
      " [6] #invokelatest at ./none:0 [inlined]",
      " [7] #run_result#37 at /home/tgal/.julia/packages/BenchmarkTools/7aqwe/src/execution.jl:32 [inlined]",
      " [8] #run_result at ./none:0 [inlined]",
      " [9] #run#39(::Base.Iterators.Pairs{Symbol,Integer,NTuple{5,Symbol},NamedTuple{(:verbose, :samples, :evals, :gctrial, :gcsample),Tuple{Bool,Int64,Int64,Bool,Bool}}}, ::typeof(run), ::BenchmarkTools.Benchmark{Symbol(\"##benchmark#435\")}, ::BenchmarkTools.Parameters) at /home/tgal/.julia/packages/BenchmarkTools/7aqwe/src/execution.jl:46",
      " [10] #run at ./none:0 [inlined] (repeats 2 times)",
      " [11] #warmup#42 at /home/tgal/.julia/packages/BenchmarkTools/7aqwe/src/execution.jl:79 [inlined]",
      " [12] warmup(::BenchmarkTools.Benchmark{Symbol(\"##benchmark#435\")}) at /home/tgal/.julia/packages/BenchmarkTools/7aqwe/src/execution.jl:79",
      " [13] top-level scope at /home/tgal/.julia/packages/BenchmarkTools/7aqwe/src/execution.jl:390",
      " [14] top-level scope at In[19]:1"
     ]
    }
   ],
   "source": [
    "@btime retrieve_foo(data)"
   ]
  },
  {
   "cell_type": "code",
   "execution_count": 9,
   "metadata": {},
   "outputs": [
    {
     "name": "stdout",
     "output_type": "stream",
     "text": [
      "  15.397 ns (2 allocations: 96 bytes)\n"
     ]
    },
    {
     "data": {
      "text/plain": [
       "Foo(1677721600, 838860800, 1.0339758f-25)"
      ]
     },
     "execution_count": 9,
     "metadata": {},
     "output_type": "execute_result"
    }
   ],
   "source": [
    "@btime retrieve_foo_via_ref($data)"
   ]
  },
  {
   "cell_type": "code",
   "execution_count": 10,
   "metadata": {},
   "outputs": [
    {
     "name": "stdout",
     "output_type": "stream",
     "text": [
      "  38.039 ns (2 allocations: 96 bytes)\n"
     ]
    },
    {
     "data": {
      "text/plain": [
       "Foo(100, 50, 3.1f-44)"
      ]
     },
     "execution_count": 10,
     "metadata": {},
     "output_type": "execute_result"
    }
   ],
   "source": [
    "@btime retrieve_big_endian_32_foo($data)"
   ]
  },
  {
   "cell_type": "code",
   "execution_count": 11,
   "metadata": {},
   "outputs": [
    {
     "name": "stdout",
     "output_type": "stream",
     "text": [
      "  27.803 ns (2 allocations: 96 bytes)\n"
     ]
    },
    {
     "data": {
      "text/plain": [
       "Foo(100, 50, 3.1f-44)"
      ]
     },
     "execution_count": 11,
     "metadata": {},
     "output_type": "execute_result"
    }
   ],
   "source": [
    "@btime retrieve_big_endian_32_foo_hardcoded_using_reverse_and_ref($data)"
   ]
  },
  {
   "cell_type": "code",
   "execution_count": 12,
   "metadata": {},
   "outputs": [
    {
     "name": "stdout",
     "output_type": "stream",
     "text": [
      "  12.002 ns (1 allocation: 64 bytes)\n"
     ]
    },
    {
     "data": {
      "text/plain": [
       "Foo(100, 50, 3.1f-44)"
      ]
     },
     "execution_count": 12,
     "metadata": {},
     "output_type": "execute_result"
    }
   ],
   "source": [
    "@btime retrieve_big_endian_32_foo_hardcoded_using_ntoh($data)"
   ]
  }
 ],
 "metadata": {
  "kernelspec": {
   "display_name": "Julia 1.2.0",
   "language": "julia",
   "name": "julia-1.2"
  },
  "language_info": {
   "file_extension": ".jl",
   "mimetype": "application/julia",
   "name": "julia",
   "version": "1.2.0"
  }
 },
 "nbformat": 4,
 "nbformat_minor": 4
}
