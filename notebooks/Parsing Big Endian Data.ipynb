{
 "cells": [
  {
   "cell_type": "code",
   "execution_count": 1,
   "metadata": {},
   "outputs": [
    {
     "name": "stdout",
     "output_type": "stream",
     "text": [
      "\u001b[32m\u001b[1mActivating\u001b[22m\u001b[39m environment at `~/Dev/ROOTIO/Project.toml`\n"
     ]
    }
   ],
   "source": [
    "using Pkg\n",
    "Pkg.activate(\".\")\n",
    "\n",
    "using BenchmarkTools"
   ]
  },
  {
   "cell_type": "code",
   "execution_count": 2,
   "metadata": {},
   "outputs": [
    {
     "name": "stderr",
     "output_type": "stream",
     "text": [
      "┌ Info: Precompiling ROOTIO [3cd96dde-e98d-4713-81e9-a4a1b0235ce9]\n",
      "└ @ Base loading.jl:1273\n"
     ]
    }
   ],
   "source": [
    "using ROOTIO"
   ]
  },
  {
   "cell_type": "code",
   "execution_count": 3,
   "metadata": {},
   "outputs": [],
   "source": [
    "@ROOTIO.io struct Foo\n",
    "    a::Int32\n",
    "    b::Int32\n",
    "    c::Float32\n",
    "    d::Int32\n",
    "end"
   ]
  },
  {
   "cell_type": "code",
   "execution_count": 4,
   "metadata": {},
   "outputs": [
    {
     "data": {
      "text/plain": [
       "Foo(1, 2, 3.0f0, 4)"
      ]
     },
     "execution_count": 4,
     "metadata": {},
     "output_type": "execute_result"
    }
   ],
   "source": [
    "Foo(1, 2, 3, 4)"
   ]
  },
  {
   "cell_type": "code",
   "execution_count": 5,
   "metadata": {},
   "outputs": [],
   "source": [
    "data = rand(UInt8, 1000000000);"
   ]
  },
  {
   "cell_type": "code",
   "execution_count": 6,
   "metadata": {},
   "outputs": [],
   "source": [
    "buf = IOBuffer(data);"
   ]
  },
  {
   "cell_type": "code",
   "execution_count": 7,
   "metadata": {},
   "outputs": [
    {
     "ename": "UndefVarError",
     "evalue": "UndefVarError: types not defined",
     "output_type": "error",
     "traceback": [
      "UndefVarError: types not defined",
      "",
      "Stacktrace:",
      " [1] unpack(::Base.GenericIOBuffer{Array{UInt8,1}}, ::Type{Foo}) at /home/tgal/Dev/ROOTIO/src/io.jl:16",
      " [2] top-level scope at In[7]:1"
     ]
    }
   ],
   "source": [
    "ROOTIO.unpack(IOBuffer(rand(UInt8, 1000)), Foo)"
   ]
  },
  {
   "cell_type": "code",
   "execution_count": 8,
   "metadata": {},
   "outputs": [
    {
     "ename": "UndefVarError",
     "evalue": "UndefVarError: types not defined",
     "output_type": "error",
     "traceback": [
      "UndefVarError: types not defined",
      "",
      "Stacktrace:",
      " [1] unpack(::Base.GenericIOBuffer{Array{UInt8,1}}, ::Type{Foo}) at /home/tgal/Dev/ROOTIO/src/io.jl:16",
      " [2] ##core#409(::Base.GenericIOBuffer{Array{UInt8,1}}) at /home/tgal/.julia/packages/BenchmarkTools/7aqwe/src/execution.jl:297",
      " [3] ##sample#410(::BenchmarkTools.Parameters) at /home/tgal/.julia/packages/BenchmarkTools/7aqwe/src/execution.jl:303",
      " [4] #_run#7(::Bool, ::String, ::Base.Iterators.Pairs{Symbol,Integer,NTuple{4,Symbol},NamedTuple{(:samples, :evals, :gctrial, :gcsample),Tuple{Int64,Int64,Bool,Bool}}}, ::typeof(BenchmarkTools._run), ::BenchmarkTools.Benchmark{Symbol(\"##benchmark#408\")}, ::BenchmarkTools.Parameters) at /home/tgal/.julia/packages/BenchmarkTools/7aqwe/src/execution.jl:331",
      " [5] (::Base.var\"#inner#2\"{Base.Iterators.Pairs{Symbol,Integer,NTuple{5,Symbol},NamedTuple{(:verbose, :samples, :evals, :gctrial, :gcsample),Tuple{Bool,Int64,Int64,Bool,Bool}}},typeof(BenchmarkTools._run),Tuple{BenchmarkTools.Benchmark{Symbol(\"##benchmark#408\")},BenchmarkTools.Parameters}})() at ./none:0",
      " [6] #invokelatest#1 at ./essentials.jl:713 [inlined]",
      " [7] #invokelatest at ./none:0 [inlined]",
      " [8] #run_result#37 at /home/tgal/.julia/packages/BenchmarkTools/7aqwe/src/execution.jl:32 [inlined]",
      " [9] #run_result at ./none:0 [inlined]",
      " [10] #run#39(::Base.Iterators.Pairs{Symbol,Integer,NTuple{5,Symbol},NamedTuple{(:verbose, :samples, :evals, :gctrial, :gcsample),Tuple{Bool,Int64,Int64,Bool,Bool}}}, ::typeof(run), ::BenchmarkTools.Benchmark{Symbol(\"##benchmark#408\")}, ::BenchmarkTools.Parameters) at /home/tgal/.julia/packages/BenchmarkTools/7aqwe/src/execution.jl:46",
      " [11] #run at ./none:0 [inlined] (repeats 2 times)",
      " [12] #warmup#42 at /home/tgal/.julia/packages/BenchmarkTools/7aqwe/src/execution.jl:79 [inlined]",
      " [13] warmup(::BenchmarkTools.Benchmark{Symbol(\"##benchmark#408\")}) at /home/tgal/.julia/packages/BenchmarkTools/7aqwe/src/execution.jl:79",
      " [14] top-level scope at /home/tgal/.julia/packages/BenchmarkTools/7aqwe/src/execution.jl:390",
      " [15] top-level scope at In[8]:1"
     ]
    }
   ],
   "source": [
    "@btime ROOTIO.unpack($buf, Foo)"
   ]
  },
  {
   "cell_type": "code",
   "execution_count": 44,
   "metadata": {},
   "outputs": [
    {
     "name": "stdout",
     "output_type": "stream",
     "text": [
      "  10.999 ns (1 allocation: 64 bytes)\n"
     ]
    },
    {
     "data": {
      "text/plain": [
       "Foo(543217594, 1640246230, 3.3872068f-33, 1564409259)"
      ]
     },
     "execution_count": 44,
     "metadata": {},
     "output_type": "execute_result"
    }
   ],
   "source": [
    "@btime retrieve_big_endian_32_foo_hardcoded_using_ntoh($data)"
   ]
  },
  {
   "cell_type": "code",
   "execution_count": 23,
   "metadata": {},
   "outputs": [
    {
     "name": "stdout",
     "output_type": "stream",
     "text": [
      "  85.815 ns (1 allocation: 64 bytes)\n"
     ]
    },
    {
     "data": {
      "text/plain": [
       "IOBuffer(data=UInt8[...], readable=true, writable=false, seekable=true, append=false, size=16, maxsize=Inf, ptr=1, mark=-1)"
      ]
     },
     "execution_count": 23,
     "metadata": {},
     "output_type": "execute_result"
    }
   ],
   "source": [
    "@btime IOBuffer(data)"
   ]
  },
  {
   "cell_type": "code",
   "execution_count": 7,
   "metadata": {},
   "outputs": [],
   "source": [
    "data = Vector{UInt8}([0x00, 0x00, 0x00, 0x64, 0x00, 0x00, 0x00, 0x32, 0x00, 0x00, 0x00, 0x16, 0x00, 0x00, 0x00, 0x24]);"
   ]
  },
  {
   "cell_type": "code",
   "execution_count": 2,
   "metadata": {},
   "outputs": [],
   "source": [
    "struct Foo\n",
    "    a::Int32\n",
    "    b::Int32\n",
    "    c::Float32\n",
    "    d::Int32\n",
    "end"
   ]
  },
  {
   "cell_type": "code",
   "execution_count": 21,
   "metadata": {},
   "outputs": [
    {
     "data": {
      "text/plain": [
       "retrieve_big_endian_32_foo_hardcoded_using_ntoh (generic function with 1 method)"
      ]
     },
     "execution_count": 21,
     "metadata": {},
     "output_type": "execute_result"
    }
   ],
   "source": [
    "function retrieve_foo(data)\n",
    "    buf = IOBuffer(data)\n",
    "    Foo(read(buf, Int32), read(buf, Int32), read(buf, Float32), read(buf, Int32))\n",
    "end\n",
    "\n",
    "function retrieve_foo_via_ref(data)\n",
    "    ref = Ref{Foo}()\n",
    "    read!(IOBuffer(data), ref)\n",
    "    return ref[]\n",
    "end\n",
    "\n",
    "\n",
    "function retrieve_big_endian_32_foo(data)\n",
    "    ref = Ref{Foo}()\n",
    "    @inbounds for idx in range(1; length=Int(length(data)/4), step=4)\n",
    "        reverse!(data, idx, idx+3)\n",
    "    end\n",
    "    read!(IOBuffer(data), ref)\n",
    "    return ref[]\n",
    "end\n",
    "\n",
    "\n",
    "function retrieve_big_endian_32_foo_hardcoded_using_reverse_and_ref(data)\n",
    "    ref = Ref{Foo}()\n",
    "    reverse!(data, 1, 4)\n",
    "    reverse!(data, 5, 8)\n",
    "    reverse!(data, 9, 12)\n",
    "    read!(IOBuffer(data), ref)\n",
    "    return ref[]\n",
    "end\n",
    "\n",
    "\n",
    "function retrieve_big_endian_32_foo_hardcoded_using_ntoh(data)\n",
    "    buf = IOBuffer(data)\n",
    "    Foo(ntoh(read(buf, Int32)), ntoh(read(buf, Int32)), ntoh(read(buf, Float32)), ntoh(read(buf, Int32)))\n",
    "end"
   ]
  },
  {
   "cell_type": "code",
   "execution_count": 15,
   "metadata": {},
   "outputs": [],
   "source": [
    "data = Vector{UInt8}([0x00, 0x00, 0x00, 0x64, 0x00, 0x00, 0x00, 0x32, 0x00, 0x00, 0x00, 0x16, 0x00, 0x00, 0x00, 0x24]);"
   ]
  },
  {
   "cell_type": "code",
   "execution_count": 19,
   "metadata": {},
   "outputs": [
    {
     "ename": "UndefVarError",
     "evalue": "UndefVarError: retrieve_foo not defined",
     "output_type": "error",
     "traceback": [
      "UndefVarError: retrieve_foo not defined",
      "",
      "Stacktrace:",
      " [1] ##core#436() at /home/tgal/.julia/packages/BenchmarkTools/7aqwe/src/execution.jl:297",
      " [2] ##sample#437(::BenchmarkTools.Parameters) at /home/tgal/.julia/packages/BenchmarkTools/7aqwe/src/execution.jl:303",
      " [3] #_run#10(::Bool, ::String, ::Base.Iterators.Pairs{Symbol,Integer,NTuple{4,Symbol},NamedTuple{(:samples, :evals, :gctrial, :gcsample),Tuple{Int64,Int64,Bool,Bool}}}, ::typeof(BenchmarkTools._run), ::BenchmarkTools.Benchmark{Symbol(\"##benchmark#435\")}, ::BenchmarkTools.Parameters) at /home/tgal/.julia/packages/BenchmarkTools/7aqwe/src/execution.jl:331",
      " [4] (::Base.var\"#inner#2\"{Base.Iterators.Pairs{Symbol,Integer,NTuple{5,Symbol},NamedTuple{(:verbose, :samples, :evals, :gctrial, :gcsample),Tuple{Bool,Int64,Int64,Bool,Bool}}},typeof(BenchmarkTools._run),Tuple{BenchmarkTools.Benchmark{Symbol(\"##benchmark#435\")},BenchmarkTools.Parameters}})() at ./none:0",
      " [5] #invokelatest#1 at ./essentials.jl:713 [inlined]",
      " [6] #invokelatest at ./none:0 [inlined]",
      " [7] #run_result#37 at /home/tgal/.julia/packages/BenchmarkTools/7aqwe/src/execution.jl:32 [inlined]",
      " [8] #run_result at ./none:0 [inlined]",
      " [9] #run#39(::Base.Iterators.Pairs{Symbol,Integer,NTuple{5,Symbol},NamedTuple{(:verbose, :samples, :evals, :gctrial, :gcsample),Tuple{Bool,Int64,Int64,Bool,Bool}}}, ::typeof(run), ::BenchmarkTools.Benchmark{Symbol(\"##benchmark#435\")}, ::BenchmarkTools.Parameters) at /home/tgal/.julia/packages/BenchmarkTools/7aqwe/src/execution.jl:46",
      " [10] #run at ./none:0 [inlined] (repeats 2 times)",
      " [11] #warmup#42 at /home/tgal/.julia/packages/BenchmarkTools/7aqwe/src/execution.jl:79 [inlined]",
      " [12] warmup(::BenchmarkTools.Benchmark{Symbol(\"##benchmark#435\")}) at /home/tgal/.julia/packages/BenchmarkTools/7aqwe/src/execution.jl:79",
      " [13] top-level scope at /home/tgal/.julia/packages/BenchmarkTools/7aqwe/src/execution.jl:390",
      " [14] top-level scope at In[19]:1"
     ]
    }
   ],
   "source": [
    "@btime retrieve_foo(data)"
   ]
  },
  {
   "cell_type": "code",
   "execution_count": 9,
   "metadata": {},
   "outputs": [
    {
     "name": "stdout",
     "output_type": "stream",
     "text": [
      "  15.397 ns (2 allocations: 96 bytes)\n"
     ]
    },
    {
     "data": {
      "text/plain": [
       "Foo(1677721600, 838860800, 1.0339758f-25)"
      ]
     },
     "execution_count": 9,
     "metadata": {},
     "output_type": "execute_result"
    }
   ],
   "source": [
    "@btime retrieve_foo_via_ref($data)"
   ]
  },
  {
   "cell_type": "code",
   "execution_count": 10,
   "metadata": {},
   "outputs": [
    {
     "name": "stdout",
     "output_type": "stream",
     "text": [
      "  38.039 ns (2 allocations: 96 bytes)\n"
     ]
    },
    {
     "data": {
      "text/plain": [
       "Foo(100, 50, 3.1f-44)"
      ]
     },
     "execution_count": 10,
     "metadata": {},
     "output_type": "execute_result"
    }
   ],
   "source": [
    "@btime retrieve_big_endian_32_foo($data)"
   ]
  },
  {
   "cell_type": "code",
   "execution_count": 11,
   "metadata": {},
   "outputs": [
    {
     "name": "stdout",
     "output_type": "stream",
     "text": [
      "  27.803 ns (2 allocations: 96 bytes)\n"
     ]
    },
    {
     "data": {
      "text/plain": [
       "Foo(100, 50, 3.1f-44)"
      ]
     },
     "execution_count": 11,
     "metadata": {},
     "output_type": "execute_result"
    }
   ],
   "source": [
    "@btime retrieve_big_endian_32_foo_hardcoded_using_reverse_and_ref($data)"
   ]
  },
  {
   "cell_type": "code",
   "execution_count": 12,
   "metadata": {},
   "outputs": [
    {
     "name": "stdout",
     "output_type": "stream",
     "text": [
      "  12.002 ns (1 allocation: 64 bytes)\n"
     ]
    },
    {
     "data": {
      "text/plain": [
       "Foo(100, 50, 3.1f-44)"
      ]
     },
     "execution_count": 12,
     "metadata": {},
     "output_type": "execute_result"
    }
   ],
   "source": [
    "@btime retrieve_big_endian_32_foo_hardcoded_using_ntoh($data)"
   ]
  }
 ],
 "metadata": {
  "kernelspec": {
   "display_name": "Julia 1.3.0",
   "language": "julia",
   "name": "julia-1.3"
  },
  "language_info": {
   "file_extension": ".jl",
   "mimetype": "application/julia",
   "name": "julia",
   "version": "1.3.0"
  }
 },
 "nbformat": 4,
 "nbformat_minor": 4
}
